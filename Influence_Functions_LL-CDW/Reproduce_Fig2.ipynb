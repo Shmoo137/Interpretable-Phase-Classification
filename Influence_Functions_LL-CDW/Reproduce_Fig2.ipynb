{
 "cells": [
  {
   "cell_type": "markdown",
   "metadata": {},
   "source": [
    "# Phase Detection with Neural Networks: Interpreting the Black Box\n",
    "\n",
    "The aim of this Jupyter Notebook is to give a step-by-step introduction to the use of influence functions in the CNNs trained for phase classification problems. It accompanies the paper 'Phase Detection with Neural Networks: Interpreting the Black Box' by A. Dawid, P. Huembeli, M. Tomza, M. Lewenstein, and A. Dauphin (collaboration of ICFO, Spain and University of Warsaw, Poland) available at [arXiv](https://arxiv.org/abs/2004.04711). Its aim is to reproduce the Fig. 2 from the article.\n",
    "\n",
    "The scope of the notebook is the following:\n",
    "\n",
    "1. Production of dataset, namely ground states of the transition line between liquid Luttinger (LL) phase and charge-density wave-I (CDW-I) phase in the 1D system of spinless fermions at half filling, exhibiting nearest-neighbor interactions $V_1$ and hopping between sites with amplitude $J$.\n",
    "\n",
    "2. Training of a small CNN to recognize both phases.\n",
    "\n",
    "3. Calculation of influence functions for chosen test points and the whole training data set.\n",
    "\n",
    "4. Produce Fig. 2\n",
    "\n",
    "The notebook was written in such a way that every out of 4 parts can be run separately -> every section has necessary libraries and variables, even if previous section already imported or defined them."
   ]
  },
  {
   "cell_type": "markdown",
   "metadata": {},
   "source": [
    "## 1. Production of data set\n",
    "\n",
    "The ground states are calculated for the 12-site system with exact diagonalization method implemented in [QuSpin](https://scipost.org/SciPostPhys.2.1.003)."
   ]
  },
  {
   "cell_type": "code",
   "execution_count": 1,
   "metadata": {
    "ExecuteTime": {
     "end_time": "2020-04-21T12:12:47.698563Z",
     "start_time": "2020-04-21T12:12:42.960391Z"
    }
   },
   "outputs": [],
   "source": [
    "%load_ext autoreload\n",
    "%autoreload 2\n",
    "from quspin.operators import hamiltonian # Hamiltonian\n",
    "from quspin.basis import spinless_fermion_basis_1d # Hilbert space fermion basis\n",
    "\n",
    "import numpy as np # general math functions\n",
    "import scipy # for diagonalization methods\n",
    "import matplotlib.pyplot as plt # plotting\n",
    "from time import time # tool for calculating computation time\n",
    "from tqdm.notebook import trange # for the progress bar\n",
    "from utility_general import save_to_file, append_to_file # to save the data sets\n",
    "from utility_general import check_uniqueness # to compare training, validation and test points"
   ]
  },
  {
   "cell_type": "markdown",
   "metadata": {
    "ExecuteTime": {
     "end_time": "2020-04-21T12:13:06.868566Z",
     "start_time": "2020-04-21T12:13:06.782164Z"
    }
   },
   "source": [
    "### Package versions\n",
    "\n",
    "`matplotlib.__version__ = 3.1.3`\n",
    "\n",
    "`torch.__version__ = 1.4.0`\n",
    "\n",
    "`quspin.__version__ = 3.1.3`"
   ]
  },
  {
   "cell_type": "markdown",
   "metadata": {},
   "source": [
    "### Define the Hamiltonian"
   ]
  },
  {
   "cell_type": "code",
   "execution_count": 4,
   "metadata": {
    "ExecuteTime": {
     "end_time": "2020-04-21T12:14:34.022353Z",
     "start_time": "2020-04-21T12:14:33.972342Z"
    }
   },
   "outputs": [],
   "source": [
    "def calc_GS_energy(J, V1, V2, L, N, h1, h2, dJ, method='full'):\n",
    "    basis_f = spinless_fermion_basis_1d(L, Nf=N) # fermion basis\n",
    "    \n",
    "    hh = [1,0,-1, 0]\n",
    "    \n",
    "    hop_f_right = [[-J/2 - dJ*(-1)**i ,i,(i+1)%L] for i in range(L)] # f hopping right\n",
    "    hop_f_left =  [[-J/2 - dJ*(-1)**i ,i,(i+1)%L] for i in range(L)] # f hopping left\n",
    "    int_list_ff = [[V1,i,(i+1)%L] for i in range(L)] # ff nearest-neighbour interactiona\n",
    "    int_list_ff2 = [[V2,i,(i+2)%L] for i in range(L)] # ff next nearest-neighbour interaction\n",
    "    field1 = [[(-1)**(i)*h1, i] for i in range(L)]\n",
    "    field2 = [[hh[i%4]*h2, i] for i in range(L)]\n",
    "\n",
    "    ## For some reason the hopping terms have minus signs at some places where they actually should not have one\n",
    "    ## Therefore we use Quspin to construct the hopping Hamiltonian and then we take the absolute value and add a global minus sign\n",
    "    static = [\n",
    "    [\"+-\", hop_f_left], # fermions hop left\n",
    "    [\"-+\", hop_f_right]    \n",
    "    ]\n",
    "    \n",
    "    dynamic = [] # Dynamic part of H is just 0\n",
    "\n",
    "    no_checks = dict(check_pcon=False,check_symm=False,check_herm=False)\n",
    "    H = hamiltonian(static,dynamic,basis=basis_f,**no_checks)\n",
    "    \n",
    "    H = -np.abs(H.toarray())\n",
    "    H = np.array(H, dtype='complex128')\n",
    "    H = np.real(H)\n",
    "    #print(H)\n",
    "\n",
    "    ## Sanity check: is it hermitian?\n",
    "    #print(np.allclose(hmatrix, hmatrix.H, rtol=1e-05, atol=1e-08))\n",
    "    \n",
    "    ### Rest of Hamiltonian\n",
    "    static = [\n",
    "    [\"zz\", int_list_ff], # ff nn interaction z = (n-1/2)\n",
    "    [\"zz\", int_list_ff2], # ff2 2nd nn interaction z = (n-1/2)\n",
    "    # [\"n\", on_site],\n",
    "    [\"n\", field1],\n",
    "    [\"n\", field2]      \n",
    "    ]\n",
    "    \n",
    "    ###### set up Hamiltonian and initial states\n",
    "    no_checks = dict(check_pcon=False,check_symm=False,check_herm=False)\n",
    "    Hrest = hamiltonian(static,dynamic,basis=basis_f,**no_checks)\n",
    "    H += np.real(Hrest.toarray())\n",
    "\n",
    "    ## Sanity check: is it still hermitian?\n",
    "    #print(np.allclose(hmatrix, hmatrix.H, rtol=1e-05, atol=1e-08))         \n",
    "\n",
    "    if method=='Lanczos':\n",
    "        H = scipy.sparse.csr_matrix(H)\n",
    "        E,V = scipy.sparse.linalg.eigsh(H, k=1)\n",
    "    elif method=='full':\n",
    "        E,V = scipy.linalg.eigh(H)\n",
    "    elif method=='Sparse':\n",
    "        H = scipy.sparse.csr_matrix(H)\n",
    "        E,V = scipy.sparse.linalg.eigsh(H, k=1)\n",
    "    else:\n",
    "        print(\"method must be either 'full' or 'Lanczos'!\")\n",
    "    return E, V"
   ]
  },
  {
   "cell_type": "markdown",
   "metadata": {},
   "source": [
    "### Instructions\n",
    "\n",
    "$J = 1.0$ is set throughout the whole code.\n",
    "\n",
    "`h1` is the symmetry breaking field. For $V_1 = 1$ you have a phase transition from LL to CDW-I. \n",
    "But if you don't turn on any field, you won't see the CDW-I paterns well due to the degenerate ground state being in equal superposition of the two CDW states [10101010] and [01010101].\n",
    "To see it, set h1 to a small value (e.g. 1e-7). Then set the transition point to the order parameter value 10x bigger than the appropriate symmetry breaking field.\n"
   ]
  },
  {
   "cell_type": "markdown",
   "metadata": {},
   "source": [
    "### Define Order parameters for CDW"
   ]
  },
  {
   "cell_type": "code",
   "execution_count": 5,
   "metadata": {
    "ExecuteTime": {
     "end_time": "2020-04-21T12:14:54.403782Z",
     "start_time": "2020-04-21T12:14:54.333016Z"
    }
   },
   "outputs": [],
   "source": [
    "def calc_density(GS, L, Nf):\n",
    "    basis_f=spinless_fermion_basis_1d(L,Nf=Nf)\n",
    "    vec_density = []\n",
    "    for i in range(L):\n",
    "        n_1_static=[[\"n\",[[1.0, i]]]]\n",
    "        n_1=hamiltonian(n_1_static,[],basis=basis_f,dtype=np.float64,\n",
    "                        check_herm=False,check_pcon=False, check_symm=False)\n",
    "        a = n_1.dot(GS)\n",
    "        vec_density.append(np.conj(GS).dot(a))\n",
    "    return vec_density"
   ]
  },
  {
   "cell_type": "code",
   "execution_count": 6,
   "metadata": {
    "ExecuteTime": {
     "end_time": "2020-04-21T12:15:00.875238Z",
     "start_time": "2020-04-21T12:15:00.828615Z"
    }
   },
   "outputs": [],
   "source": [
    "def CDW_order_parameter(V,L,N, neighbour = 1): # define here if 1st or 2nd nearest neighbour \n",
    "    order_parameter = 0\n",
    "    dens = calc_density(V, L, N)\n",
    "    for i in range(L):\n",
    "        order_parameter += abs(dens[i]-dens[(i+neighbour)%L])\n",
    "    return order_parameter/L, dens"
   ]
  },
  {
   "cell_type": "markdown",
   "metadata": {},
   "source": [
    "### Define values of $V_1$ for which you want to compute the order parameters\n",
    "\n",
    "Remember to make sure that training points $\\neq$ validation points $\\neq$ test points. You preferably want the same number of points from both phases."
   ]
  },
  {
   "cell_type": "code",
   "execution_count": 7,
   "metadata": {
    "ExecuteTime": {
     "end_time": "2020-04-21T12:15:17.718459Z",
     "start_time": "2020-04-21T12:15:17.623258Z"
    }
   },
   "outputs": [
    {
     "name": "stdout",
     "output_type": "stream",
     "text": [
      "All is well!\n",
      "All is well!\n"
     ]
    }
   ],
   "source": [
    "# Points from phase 0\n",
    "train0 = np.linspace(0, 1, 500)\n",
    "test0 = np.linspace(0.01, 0.999, 20)\n",
    "validation0 = np.linspace(0.02, 0.998, 100)\n",
    "\n",
    "# Points from phase 1\n",
    "train1 = np.linspace(1.01, 40, 500)\n",
    "test01 = np.linspace(1.02, 2, 5)\n",
    "test1 = np.linspace(2.066, 39, 20)\n",
    "validation1 = np.linspace(1.03, 39.998, 100)\n",
    "\n",
    "check_uniqueness((train0, test0, validation0))\n",
    "check_uniqueness((train1, test01, test1, validation1))"
   ]
  },
  {
   "cell_type": "markdown",
   "metadata": {},
   "source": [
    "### Plot the order parameter"
   ]
  },
  {
   "cell_type": "code",
   "execution_count": 8,
   "metadata": {
    "ExecuteTime": {
     "end_time": "2020-04-21T12:15:59.478736Z",
     "start_time": "2020-04-21T12:15:36.144868Z"
    }
   },
   "outputs": [
    {
     "data": {
      "application/vnd.jupyter.widget-view+json": {
       "model_id": "33984ceaf9c741c7aed7f978f93c9811",
       "version_major": 2,
       "version_minor": 0
      },
      "text/plain": [
       "HBox(children=(FloatProgress(value=0.0, description='Calculating order param for different V1', max=40.0, styl…"
      ]
     },
     "metadata": {},
     "output_type": "display_data"
    },
    {
     "name": "stdout",
     "output_type": "stream",
     "text": [
      "\n"
     ]
    },
    {
     "data": {
      "image/png": "[encoded data removed]",
      "text/plain": [
       "<Figure size 432x288 with 1 Axes>"
      ]
     },
     "metadata": {
      "needs_background": "light"
     },
     "output_type": "display_data"
    },
    {
     "data": {
      "image/png": "[encoded data removed]",
      "text/plain": [
       "<Figure size 432x288 with 1 Axes>"
      ]
     },
     "metadata": {
      "needs_background": "light"
     },
     "output_type": "display_data"
    }
   ],
   "source": [
    "# Path for the produced data set\n",
    "folder = 'datasets'\n",
    "filename = 'ED_size12_fig2_test.csv'\n",
    "\n",
    "J = 1.0 # hopping\n",
    "L = 12 # system size\n",
    "N = L//2 # half-filling\n",
    "\n",
    "h1 = 1e-7 #imposing ABABAB pattern\n",
    "\n",
    "order = []\n",
    "\n",
    "# List of V_1 values from the transition line (1), from LL to CDW-I\n",
    "V1_list = np.linspace(0, 40, 40) #np.concatenate((test0, test01, test1))\n",
    "\n",
    "for i in trange (len(V1_list), desc='Calculating order param for different V1'):\n",
    "\n",
    "    V1 = V1_list[i]\n",
    "    #print(\"{} / {}\".format(iterator, len(V1_list)))\n",
    "    E, vec = calc_GS_energy(J, V1, 0, L, N, h1, 0, 0, method='full')\n",
    "    eigenvector = vec[:,0]\n",
    "    \n",
    "    # Fixing the gauge - sign of the wavefunction is an irrelevant information\n",
    "    if eigenvector[0] < 0:\n",
    "        eigenvector = eigenvector*(-1)\n",
    "\n",
    "    op, dens = CDW_order_parameter(eigenvector, L, N, neighbour=1)\n",
    "\n",
    "    order.append(op)\n",
    "    plt.plot(abs(np.array(dens)), '.')\n",
    "    plt.title(\"Average density per site\")\n",
    "\n",
    "plt.show()\n",
    "#save_to_file(order, 'order_' + filename + '.txt', './datasets')\n",
    "\n",
    "plt.plot(V1_list, order)\n",
    "plt.title(\"Order parameter in function of V1\")\n",
    "plt.show()"
   ]
  },
  {
   "cell_type": "markdown",
   "metadata": {},
   "source": [
    "## 2. Training of a small CNN to recognize the phases\n",
    "\n",
    "Architecture includes GAP, and has only 740 parameters, what enables exact calculating of the Hessian needed for influence functions. If your model is bigger, you can use stochastic approximation of the Hessian."
   ]
  },
  {
   "cell_type": "code",
   "execution_count": 9,
   "metadata": {
    "ExecuteTime": {
     "end_time": "2020-04-21T12:16:21.075538Z",
     "start_time": "2020-04-21T12:16:20.253821Z"
    }
   },
   "outputs": [
    {
     "name": "stdout",
     "output_type": "stream",
     "text": [
      "The autoreload extension is already loaded. To reload it, use:\n",
      "  %reload_ext autoreload\n"
     ]
    }
   ],
   "source": [
    "%load_ext autoreload\n",
    "%autoreload 2\n",
    "import numpy as np\n",
    "import torch\n",
    "import torch.nn as nn\n",
    "import torch.optim as optim\n",
    "\n",
    "from tqdm.notebook import trange # for the progress bar\n",
    "\n",
    "from matplotlib import pyplot as plt\n",
    "\n",
    "from architectures import CNN1D_tiny_ED\n",
    "from data_loader import Downloader"
   ]
  },
  {
   "cell_type": "markdown",
   "metadata": {},
   "source": [
    "**Define Network Parameters**"
   ]
  },
  {
   "cell_type": "code",
   "execution_count": 10,
   "metadata": {
    "ExecuteTime": {
     "end_time": "2020-04-21T12:16:36.877371Z",
     "start_time": "2020-04-21T12:16:36.714531Z"
    }
   },
   "outputs": [
    {
     "name": "stdout",
     "output_type": "stream",
     "text": [
      "cpu\n"
     ]
    }
   ],
   "source": [
    "model_folder = 'model'\n",
    "model_name = 'CNN_LLvsCDWI_l005'\n",
    "\n",
    "device = torch.device(\"cuda:0\" if torch.cuda.is_available() else \"cpu\")\n",
    "print(device)\n",
    "\n",
    "# Hyper-parameters \n",
    "input_size = 924    # state size\n",
    "num_classes = 2    # LL or CDW\n",
    "λ = 0.05 # Regularization\n",
    "learning_rate = 0.1\n",
    "num_epochs = 100\n",
    "\n",
    "training_set_size = 1000\n",
    "test_set_size = 45\n",
    "batch_size = training_set_size"
   ]
  },
  {
   "cell_type": "markdown",
   "metadata": {},
   "source": [
    "**Train**"
   ]
  },
  {
   "cell_type": "code",
   "execution_count": 11,
   "metadata": {
    "ExecuteTime": {
     "end_time": "2020-04-21T12:17:21.813428Z",
     "start_time": "2020-04-21T12:16:53.472362Z"
    }
   },
   "outputs": [
    {
     "name": "stdout",
     "output_type": "stream",
     "text": [
      "Data loaded.\n"
     ]
    },
    {
     "data": {
      "application/vnd.jupyter.widget-view+json": {
       "model_id": "386b0fb5f11f400a9b9bfd507a7e3dfc",
       "version_major": 2,
       "version_minor": 0
      },
      "text/plain": [
       "HBox(children=(FloatProgress(value=0.0, description='Training', style=ProgressStyle(description_width='initial…"
      ]
     },
     "metadata": {},
     "output_type": "display_data"
    },
    {
     "name": "stdout",
     "output_type": "stream",
     "text": [
      "Epoch:  0 / 100 Accuracy:  50.0\n",
      "Epoch:  10 / 100 Accuracy:  50.0\n",
      "Epoch:  20 / 100 Accuracy:  50.0\n",
      "Epoch:  30 / 100 Accuracy:  50.0\n",
      "Epoch:  40 / 100 Accuracy:  99.5\n",
      "Epoch:  50 / 100 Accuracy:  50.0\n",
      "Epoch:  60 / 100 Accuracy:  83.0\n",
      "Epoch:  70 / 100 Accuracy:  81.5\n",
      "Epoch:  80 / 100 Accuracy:  96.5\n",
      "Epoch:  90 / 100 Accuracy:  99.0\n",
      "\n"
     ]
    },
    {
     "data": {
      "image/png": "[encoded data removed]",
      "text/plain": [
       "<Figure size 432x288 with 1 Axes>"
      ]
     },
     "metadata": {
      "needs_background": "light"
     },
     "output_type": "display_data"
    }
   ],
   "source": [
    "# Loading CDW data\n",
    "CDW_data = Downloader('CDW_ED_size12_full', batch_size)\n",
    "train_loader = CDW_data.train_loader() # it also produces the mask that allows to reverse the shuffling of training data - needed for influence functions\n",
    "validation_loader = CDW_data.validation_loader(batch_size=200)\n",
    "\n",
    "print(\"Data loaded.\")\n",
    "\n",
    "torch.manual_seed(17)\n",
    "\n",
    "model = CNN1D_tiny_ED(num_classes)\n",
    "model.to(device)\n",
    "\n",
    "criterion = nn.CrossEntropyLoss()\n",
    "optimizer = torch.optim.SGD(model.parameters(), lr = learning_rate, momentum=1.0)\n",
    "scheduler = optim.lr_scheduler.MultiStepLR(optimizer, milestones=[50,65], gamma=0.05)\n",
    "\n",
    "# Train the model\n",
    "hold_loss=[]\n",
    "hold_val_loss = []\n",
    "\n",
    "for epoch in trange(num_epochs, desc='Training'):\n",
    "    \n",
    "    for phase in ['train', 'val']:\n",
    "\n",
    "        if phase == 'train':\n",
    "            model.train()  # Set model to training mode\n",
    "\n",
    "            for i, (eigenvectors, labels) in enumerate(train_loader):\n",
    "                # Reshape eigenvectors to (batch_size, # of RGB channels, size, size)\n",
    "                eigenvectors = eigenvectors.reshape(-1, 1, 924)\n",
    "\n",
    "                eigenvectors, labels = eigenvectors.to(device), labels.to(device)\n",
    "\n",
    "                # Forward pass\n",
    "                outputs = model(eigenvectors)\n",
    "                loss = criterion(outputs, labels)\n",
    "                # We manually add L2 regularization\n",
    "                if λ != 0:\n",
    "                    l2_reg = 0.0\n",
    "                    for param in model.parameters():\n",
    "                        l2_reg += torch.norm(param)**2\n",
    "                    loss += 1/training_set_size * λ/2 * l2_reg\n",
    "\n",
    "                # Backward and optimize\n",
    "                optimizer.zero_grad()\n",
    "                loss.backward()\n",
    "                optimizer.step()\n",
    "\n",
    "            hold_loss.append(loss.item())\n",
    "            #print(\"Epoch: \", epoch, \"Loss: \", loss.item())\n",
    "\n",
    "        if phase == 'val':\n",
    "            model.eval()  # Set model to evaluating mode\n",
    "\n",
    "            with torch.no_grad():\n",
    "                correct = 0\n",
    "                for eigenvectors, labels in validation_loader: \n",
    "                    eigenvectors = eigenvectors.reshape(-1, 1, 924)\n",
    "\n",
    "                    eigenvectors, labels = eigenvectors.to(device), labels.to(device)\n",
    "\n",
    "                    outputs = model(eigenvectors)\n",
    "                    _, predicted = torch.max(outputs.data, 1)\n",
    "                    val_loss = criterion(outputs, labels)\n",
    "\n",
    "                    # We manually add L2 regularization\n",
    "                    if λ != 0:\n",
    "                        l2_reg = 0.0\n",
    "                        for param in model.parameters():\n",
    "                            l2_reg += torch.norm(param)**2\n",
    "                        val_loss += 1/training_set_size * λ/2 * l2_reg\n",
    "\n",
    "                    correct = (predicted == labels).sum().item()\n",
    "\n",
    "            hold_val_loss.append(val_loss.item())\n",
    "            #print(\"Epoch: \", epoch, \"Val loss: \", val_loss.item())\n",
    "            \n",
    "            if epoch % 10 == 0:\n",
    "                print(\"Epoch: \", epoch, \"/\", num_epochs, \"Accuracy: \", 100 * correct / len(labels))\n",
    "    \n",
    "        scheduler.step # here for milestones scheduler\n",
    "\n",
    "# Save the model checkpoint\n",
    "torch.save(model.state_dict(), model_folder + '/' + model_name + '.pt')\n",
    "\n",
    "# Plot the losses\n",
    "plt.plot(hold_loss, label=\"training loss\")\n",
    "plt.plot(hold_val_loss, label=\"validation loss\")\n",
    "plt.xlabel('epochs')\n",
    "plt.title(\"Losses plots\")\n",
    "plt.legend()\n",
    "plt.show()"
   ]
  },
  {
   "cell_type": "markdown",
   "metadata": {},
   "source": [
    "### Check accuracy on the test set\n",
    "\n",
    "Poorer accuracy on the test set compared to the validation is artificial and the reason is taking more test examples from the transition region which is the most interesting to study with influence functions."
   ]
  },
  {
   "cell_type": "code",
   "execution_count": 12,
   "metadata": {
    "ExecuteTime": {
     "end_time": "2020-04-21T12:17:22.421645Z",
     "start_time": "2020-04-21T12:17:22.272550Z"
    }
   },
   "outputs": [
    {
     "name": "stdout",
     "output_type": "stream",
     "text": [
      "Accuracy of the model on the  45  test images: 88.88888888888889 %\n",
      "21  True:  1.0  Predicted:  0\n",
      "22  True:  1.0  Predicted:  0\n",
      "23  True:  1.0  Predicted:  0\n",
      "24  True:  1.0  Predicted:  0\n",
      "25  True:  1.0  Predicted:  0\n",
      "How many misclassified examples:  5\n"
     ]
    }
   ],
   "source": [
    "# If you want to use a model from paper, use model_name = 'original_CNN_full_l005'\n",
    "model_name = 'original_CNN_full_l005'\n",
    "\n",
    "# Loading the transition data\n",
    "CDW_data = Downloader('CDW_ED_size12_full', test_set_size)\n",
    "test_loader = CDW_data.test_loader()\n",
    "\n",
    "model = CNN1D_tiny_ED(num_classes)\n",
    "model.load_state_dict(torch.load(model_folder + '/' + model_name + '.pt', map_location=device))\n",
    "model.to(device)\n",
    "model.eval()\n",
    "\n",
    "criterion = nn.CrossEntropyLoss(reduction='none') # classification\n",
    "\n",
    "predicted_labels_storage = []\n",
    "predicted_loss_storage = []\n",
    "\n",
    "with torch.no_grad():\n",
    "    correct = 0\n",
    "    for eigenvectors, labels in test_loader:\n",
    "        eigenvectors = eigenvectors.reshape(-1, 1, 924) #(test_set_size, 25, 50)\n",
    "\n",
    "        eigenvectors, labels = eigenvectors.to(device), labels.to(device)\n",
    "\n",
    "        outputs = model(eigenvectors)\n",
    "        _, predicted = torch.max(outputs.data, 1)  # classification\n",
    "        test_loss = criterion(outputs, labels)\n",
    "        \n",
    "        # We manually add L2 regularization\n",
    "        if λ != 0:\n",
    "            l2_reg = 0.0\n",
    "            for param in model.parameters():\n",
    "                l2_reg += torch.norm(param)**2\n",
    "                test_loss += 1/training_set_size * λ/2 * l2_reg\n",
    "\n",
    "        correct = (predicted == labels).sum().item()  # classification\n",
    "\n",
    "        predicted_labels_storage = np.array(predicted.cpu()) # it flattens a tuple of tensors to 1D tensor (and then converts tensor to numpy array)\n",
    "        predicted_loss_storage = np.array(test_loss.cpu())\n",
    "        print(\"Accuracy of the model on the \", len(labels), \" test images:\", 100 * correct / len(labels), \"%\")\n",
    "\n",
    "    #Find wrong predictions\n",
    "    indices_of_wrongly_classifed = []\n",
    "    for i in range (0, test_set_size):\n",
    "        if CDW_data.test_labels[i] != predicted_labels_storage[i]:\n",
    "            print(i, ' True: ', CDW_data.test_labels[i], ' Predicted: ', predicted_labels_storage[i])\n",
    "            indices_of_wrongly_classifed.append(i)\n",
    "\n",
    "    print('How many misclassified examples: ', len(indices_of_wrongly_classifed))"
   ]
  },
  {
   "cell_type": "markdown",
   "metadata": {},
   "source": [
    "## 3. Calculation of influence functions for chosen test points.\n",
    "\n",
    "### 3.1. We start with calculating the hessian of the training loss built from the whole training set"
   ]
  },
  {
   "cell_type": "code",
   "execution_count": 13,
   "metadata": {
    "ExecuteTime": {
     "end_time": "2020-04-21T12:17:30.311244Z",
     "start_time": "2020-04-21T12:17:30.246903Z"
    }
   },
   "outputs": [],
   "source": [
    "import numpy as np\n",
    "import torch\n",
    "import torch.nn as nn\n",
    "\n",
    "from utility_general import find_hessian, save_to_file\n",
    "from architectures import CNN1D_tiny_ED\n",
    "from data_loader import Downloader\n",
    "\n",
    "# Hyper-parameters\n",
    "num_classes = 2    # LL or CDW\n",
    "λ = 0.05 # Regularization\n",
    "\n",
    "training_set_size = 1000\n",
    "test_set_size = 45\n",
    "\n",
    "folder_model = 'model'\n",
    "influence_folder = 'influence'"
   ]
  },
  {
   "cell_type": "code",
   "execution_count": 14,
   "metadata": {
    "ExecuteTime": {
     "end_time": "2020-04-21T12:23:02.856765Z",
     "start_time": "2020-04-21T12:17:39.300789Z"
    }
   },
   "outputs": [
    {
     "name": "stderr",
     "output_type": "stream",
     "text": [
      "\r",
      "Calculating hessian:   0%|          | 0/740 [00:00<?, ?it/s]"
     ]
    },
    {
     "name": "stdout",
     "output_type": "stream",
     "text": [
      "tensor(0.1410, grad_fn=<NllLossBackward>)\n"
     ]
    },
    {
     "name": "stderr",
     "output_type": "stream",
     "text": [
      "Calculating hessian: 100%|██████████| 740/740 [05:22<00:00,  2.29it/s]"
     ]
    },
    {
     "name": "stdout",
     "output_type": "stream",
     "text": [
      "[-2.23087862e-01 -1.93486735e-01 -1.77613795e-01 -1.61836997e-01\n",
      " -1.48300558e-01 -1.07301608e-01 -9.19923633e-02 -8.95318389e-02\n",
      " -7.72526041e-02 -7.32104927e-02 -7.08904713e-02 -5.89217395e-02\n",
      " -5.82939461e-02 -3.93035077e-02 -3.41735259e-02 -3.18398476e-02\n",
      " -2.60320902e-02 -2.46550255e-02 -2.30713543e-02 -2.09502056e-02\n",
      " -1.94258895e-02 -1.84297897e-02 -1.77403595e-02 -1.60392895e-02\n",
      " -1.45402784e-02 -1.26476530e-02 -1.06777875e-02 -9.34921019e-03\n",
      " -8.14424083e-03 -7.93996453e-03 -7.33691221e-03 -6.91412902e-03\n",
      " -6.53419364e-03 -6.13712473e-03 -6.03200123e-03 -5.65677509e-03\n",
      " -5.43343369e-03 -5.02584223e-03 -4.81823599e-03 -4.67654411e-03\n",
      " -4.54796385e-03 -3.93434474e-03 -3.38992849e-03 -3.10011045e-03\n",
      " -2.90348590e-03 -2.72756210e-03 -2.46536033e-03 -2.33139889e-03\n",
      " -2.16426118e-03 -1.83227065e-03 -1.64130924e-03 -1.46118156e-03\n",
      " -1.27820135e-03 -1.18921848e-03 -1.10922137e-03 -1.03035884e-03\n",
      " -9.73967195e-04 -8.81993270e-04 -8.64251924e-04 -7.94838474e-04\n",
      " -7.64914090e-04 -7.17338000e-04 -6.80287310e-04 -5.91426389e-04\n",
      " -5.39148401e-04 -4.80386283e-04 -4.49092971e-04 -4.13002854e-04\n",
      " -3.91590322e-04 -3.48460919e-04 -3.43005115e-04 -3.25767003e-04\n",
      " -3.02702596e-04 -2.91650329e-04 -2.59588065e-04 -2.18608140e-04\n",
      " -2.09404519e-04 -1.99446833e-04 -1.89840997e-04 -1.71595195e-04\n",
      " -1.64278943e-04 -1.42706223e-04 -1.34560032e-04 -1.18791068e-04\n",
      " -1.07329579e-04 -9.89100954e-05 -9.65644213e-05 -8.24853050e-05\n",
      " -7.27088627e-05 -5.67287243e-05 -5.40332585e-05 -3.68416986e-05\n",
      " -3.34095384e-05 -2.26350112e-05 -1.59373649e-05 -9.13600979e-06\n",
      " -8.09059202e-06 -5.38927861e-06  1.80197947e-06  6.21867639e-06\n",
      "  9.48485558e-06  1.04957644e-05  1.72942364e-05  1.79880954e-05\n",
      "  2.19140456e-05  2.53990638e-05  2.83409390e-05  2.91804026e-05\n",
      "  3.23517597e-05  3.37576384e-05  3.46196211e-05  3.64211737e-05\n",
      "  3.74652191e-05  3.78688128e-05  3.91778121e-05  4.01458783e-05\n",
      "  4.35365691e-05  4.40898511e-05  4.51334854e-05  4.60406955e-05\n",
      "  4.73882392e-05  4.76415080e-05  4.79269547e-05  4.86494937e-05\n",
      "  4.92145991e-05  4.96562352e-05  4.97648180e-05  4.99883681e-05\n",
      "  4.99898633e-05  4.99926900e-05  4.99954913e-05  4.99959715e-05\n",
      "  4.99964190e-05  4.99970156e-05  4.99971575e-05  4.99980160e-05\n",
      "  4.99981907e-05  4.99984817e-05  4.99986891e-05  4.99988382e-05\n",
      "  4.99989219e-05  4.99990274e-05  4.99991766e-05  4.99992348e-05\n",
      "  4.99994276e-05  4.99994421e-05  4.99994894e-05  4.99996058e-05\n",
      "  4.99996131e-05  4.99996786e-05  4.99997295e-05  4.99997514e-05\n",
      "  4.99998059e-05  4.99998205e-05  4.99998532e-05  4.99999114e-05\n",
      "  4.99999296e-05  4.99999514e-05  4.99999660e-05  4.99999769e-05\n",
      "  4.99999842e-05  4.99999878e-05  4.99999915e-05  4.99999951e-05\n",
      "  4.99999987e-05  4.99999987e-05  4.99999987e-05  4.99999987e-05\n",
      "  4.99999987e-05  4.99999987e-05  4.99999987e-05  4.99999987e-05\n",
      "  4.99999987e-05  4.99999987e-05  4.99999987e-05  4.99999987e-05\n",
      "  4.99999987e-05  4.99999987e-05  4.99999987e-05  4.99999987e-05\n",
      "  4.99999987e-05  4.99999987e-05  4.99999987e-05  4.99999987e-05\n",
      "  4.99999987e-05  4.99999987e-05  4.99999987e-05  4.99999987e-05\n",
      "  4.99999987e-05  4.99999987e-05  4.99999987e-05  4.99999987e-05\n",
      "  4.99999987e-05  4.99999987e-05  4.99999987e-05  4.99999987e-05\n",
      "  4.99999987e-05  4.99999987e-05  4.99999987e-05  4.99999987e-05\n",
      "  4.99999987e-05  4.99999987e-05  4.99999987e-05  4.99999987e-05\n",
      "  4.99999987e-05  4.99999987e-05  4.99999987e-05  4.99999987e-05\n",
      "  4.99999987e-05  4.99999987e-05  4.99999987e-05  4.99999987e-05\n",
      "  4.99999987e-05  4.99999987e-05  4.99999987e-05  4.99999987e-05\n",
      "  4.99999987e-05  4.99999987e-05  4.99999987e-05  4.99999987e-05\n",
      "  4.99999987e-05  4.99999987e-05  4.99999987e-05  4.99999987e-05\n",
      "  4.99999987e-05  4.99999987e-05  4.99999987e-05  4.99999987e-05\n",
      "  4.99999987e-05  4.99999987e-05  4.99999987e-05  4.99999987e-05\n",
      "  4.99999987e-05  4.99999987e-05  4.99999987e-05  4.99999987e-05\n",
      "  4.99999987e-05  4.99999987e-05  4.99999987e-05  4.99999987e-05\n",
      "  4.99999987e-05  4.99999987e-05  4.99999987e-05  4.99999987e-05\n",
      "  4.99999987e-05  4.99999987e-05  4.99999987e-05  4.99999987e-05\n",
      "  4.99999987e-05  4.99999987e-05  4.99999987e-05  4.99999987e-05\n",
      "  4.99999987e-05  4.99999987e-05  4.99999987e-05  4.99999987e-05\n",
      "  4.99999987e-05  4.99999987e-05  4.99999987e-05  4.99999987e-05\n",
      "  4.99999987e-05  4.99999987e-05  4.99999987e-05  4.99999987e-05\n",
      "  4.99999987e-05  4.99999987e-05  4.99999987e-05  4.99999987e-05\n",
      "  4.99999987e-05  4.99999987e-05  4.99999987e-05  4.99999987e-05\n",
      "  4.99999987e-05  4.99999987e-05  4.99999987e-05  4.99999987e-05\n",
      "  4.99999987e-05  4.99999987e-05  4.99999987e-05  4.99999987e-05\n",
      "  4.99999987e-05  4.99999987e-05  4.99999987e-05  4.99999987e-05\n",
      "  4.99999987e-05  4.99999987e-05  4.99999987e-05  4.99999987e-05\n",
      "  4.99999987e-05  4.99999987e-05  4.99999987e-05  4.99999987e-05\n",
      "  4.99999987e-05  4.99999987e-05  4.99999987e-05  4.99999987e-05\n",
      "  4.99999987e-05  4.99999987e-05  4.99999987e-05  4.99999987e-05\n",
      "  4.99999987e-05  4.99999987e-05  4.99999987e-05  4.99999987e-05\n",
      "  4.99999987e-05  4.99999987e-05  4.99999987e-05  4.99999987e-05\n",
      "  4.99999987e-05  4.99999987e-05  4.99999987e-05  4.99999987e-05\n",
      "  4.99999987e-05  4.99999987e-05  4.99999987e-05  4.99999987e-05\n",
      "  4.99999987e-05  4.99999987e-05  4.99999987e-05  4.99999987e-05\n",
      "  4.99999987e-05  4.99999987e-05  4.99999987e-05  4.99999987e-05\n",
      "  4.99999987e-05  4.99999987e-05  4.99999987e-05  4.99999987e-05\n",
      "  4.99999987e-05  4.99999987e-05  4.99999987e-05  4.99999987e-05\n",
      "  4.99999987e-05  4.99999987e-05  4.99999987e-05  4.99999987e-05\n",
      "  4.99999987e-05  4.99999987e-05  4.99999987e-05  4.99999987e-05\n",
      "  4.99999987e-05  4.99999987e-05  4.99999987e-05  4.99999987e-05\n",
      "  4.99999987e-05  4.99999987e-05  4.99999987e-05  4.99999987e-05\n",
      "  4.99999987e-05  4.99999987e-05  4.99999987e-05  4.99999987e-05\n",
      "  4.99999987e-05  4.99999987e-05  4.99999987e-05  4.99999987e-05\n",
      "  4.99999987e-05  4.99999987e-05  4.99999987e-05  4.99999987e-05\n",
      "  4.99999987e-05  4.99999987e-05  4.99999987e-05  4.99999987e-05\n",
      "  4.99999987e-05  4.99999987e-05  4.99999987e-05  4.99999987e-05\n",
      "  4.99999987e-05  4.99999987e-05  4.99999987e-05  4.99999987e-05\n",
      "  4.99999987e-05  4.99999987e-05  4.99999987e-05  4.99999987e-05\n",
      "  4.99999987e-05  4.99999987e-05  4.99999987e-05  4.99999987e-05\n",
      "  4.99999987e-05  4.99999987e-05  4.99999987e-05  4.99999987e-05\n",
      "  4.99999987e-05  4.99999987e-05  4.99999987e-05  4.99999987e-05\n",
      "  4.99999987e-05  4.99999987e-05  4.99999987e-05  4.99999987e-05\n",
      "  4.99999987e-05  4.99999987e-05  4.99999987e-05  4.99999987e-05\n",
      "  4.99999987e-05  4.99999987e-05  4.99999987e-05  4.99999987e-05\n",
      "  4.99999987e-05  4.99999987e-05  4.99999987e-05  4.99999987e-05\n",
      "  4.99999987e-05  4.99999987e-05  4.99999987e-05  4.99999987e-05\n",
      "  4.99999987e-05  4.99999987e-05  4.99999987e-05  4.99999987e-05\n",
      "  4.99999987e-05  4.99999987e-05  4.99999987e-05  4.99999987e-05\n",
      "  4.99999987e-05  4.99999987e-05  4.99999987e-05  4.99999987e-05\n",
      "  4.99999987e-05  4.99999987e-05  4.99999987e-05  4.99999987e-05\n",
      "  4.99999987e-05  4.99999987e-05  4.99999987e-05  4.99999987e-05\n",
      "  4.99999987e-05  4.99999987e-05  4.99999987e-05  4.99999987e-05\n",
      "  4.99999987e-05  4.99999987e-05  4.99999987e-05  4.99999987e-05\n",
      "  4.99999987e-05  4.99999987e-05  4.99999987e-05  4.99999987e-05\n",
      "  4.99999987e-05  4.99999987e-05  4.99999987e-05  4.99999987e-05\n",
      "  4.99999987e-05  4.99999987e-05  4.99999987e-05  4.99999987e-05\n",
      "  4.99999987e-05  4.99999987e-05  4.99999987e-05  4.99999987e-05\n",
      "  4.99999987e-05  4.99999987e-05  4.99999987e-05  4.99999987e-05\n",
      "  4.99999987e-05  4.99999987e-05  4.99999987e-05  4.99999987e-05\n",
      "  4.99999987e-05  4.99999987e-05  4.99999987e-05  4.99999987e-05\n",
      "  4.99999987e-05  4.99999987e-05  4.99999987e-05  4.99999987e-05\n",
      "  4.99999987e-05  4.99999987e-05  4.99999987e-05  4.99999987e-05\n",
      "  4.99999987e-05  4.99999987e-05  4.99999987e-05  4.99999987e-05\n",
      "  4.99999987e-05  4.99999987e-05  4.99999987e-05  4.99999987e-05\n",
      "  4.99999987e-05  4.99999987e-05  4.99999987e-05  4.99999987e-05\n",
      "  4.99999987e-05  4.99999987e-05  4.99999987e-05  4.99999987e-05\n",
      "  4.99999987e-05  4.99999987e-05  4.99999987e-05  4.99999987e-05\n",
      "  4.99999987e-05  4.99999987e-05  4.99999987e-05  4.99999987e-05\n",
      "  4.99999987e-05  4.99999987e-05  4.99999987e-05  4.99999987e-05\n",
      "  4.99999987e-05  4.99999987e-05  4.99999987e-05  4.99999987e-05\n",
      "  4.99999987e-05  4.99999987e-05  4.99999987e-05  4.99999987e-05\n",
      "  4.99999987e-05  4.99999987e-05  4.99999987e-05  4.99999987e-05\n",
      "  4.99999987e-05  4.99999987e-05  4.99999987e-05  4.99999987e-05\n",
      "  4.99999987e-05  4.99999987e-05  4.99999987e-05  4.99999987e-05\n",
      "  4.99999987e-05  4.99999987e-05  4.99999987e-05  4.99999987e-05\n",
      "  4.99999987e-05  4.99999987e-05  4.99999987e-05  4.99999987e-05\n",
      "  4.99999987e-05  4.99999987e-05  4.99999987e-05  4.99999987e-05\n",
      "  4.99999987e-05  4.99999987e-05  4.99999987e-05  4.99999987e-05\n",
      "  4.99999987e-05  4.99999987e-05  4.99999987e-05  4.99999987e-05\n",
      "  4.99999987e-05  4.99999987e-05  4.99999987e-05  4.99999987e-05\n",
      "  4.99999987e-05  4.99999987e-05  5.00000097e-05  5.00000169e-05\n",
      "  5.00000388e-05  5.00000497e-05  5.00000642e-05  5.00000933e-05\n",
      "  5.00001006e-05  5.00001479e-05  5.00001552e-05  5.00002934e-05\n",
      "  5.00003407e-05  5.00004244e-05  5.00005408e-05  5.00005735e-05\n",
      "  5.00006572e-05  5.00007372e-05  5.00009191e-05  5.00010901e-05\n",
      "  5.00014175e-05  5.00016758e-05  5.00021815e-05  5.00028691e-05\n",
      "  5.00030292e-05  5.00036876e-05  5.00041242e-05  5.00054339e-05\n",
      "  5.00079332e-05  5.00126334e-05  5.00177703e-05  5.01298127e-05\n",
      "  5.03601659e-05  5.06481992e-05  5.10154532e-05  5.11515500e-05\n",
      "  5.16204491e-05  5.18316847e-05  5.27269767e-05  5.32220693e-05\n",
      "  5.40882465e-05  5.43927708e-05  5.53810060e-05  5.68048017e-05\n",
      "  5.79403313e-05  5.90294258e-05  6.10045463e-05  6.17827827e-05\n",
      "  6.32029696e-05  6.44946267e-05  6.81169477e-05  7.19901946e-05\n",
      "  7.30560860e-05  7.51357802e-05  7.72535495e-05  7.86619348e-05\n",
      "  8.03045623e-05  8.36644831e-05  8.71485245e-05  8.98256330e-05\n",
      "  9.35910575e-05  1.04108032e-04  1.08502252e-04  1.14272116e-04\n",
      "  1.21496647e-04  1.28628570e-04  1.38039628e-04  1.57067479e-04\n",
      "  1.57742295e-04  1.69018880e-04  1.78844290e-04  1.92263760e-04\n",
      "  2.04881406e-04  2.17939029e-04  2.24204312e-04  2.31239072e-04\n",
      "  2.42189548e-04  2.74758611e-04  2.85362767e-04  3.03299748e-04\n",
      "  3.34499811e-04  3.45817796e-04  3.94368020e-04  4.21811827e-04\n",
      "  4.38854244e-04  4.64956276e-04  5.17667329e-04  5.30795602e-04\n",
      "  5.37487504e-04  5.79923741e-04  6.27123110e-04  6.38141122e-04\n",
      "  6.80964091e-04  7.59934599e-04  7.97641114e-04  8.67105147e-04\n",
      "  8.80685868e-04  9.24045453e-04  9.39546269e-04  9.74769704e-04\n",
      "  1.05765043e-03  1.11535203e-03  1.15457387e-03  1.21162983e-03\n",
      "  1.39006099e-03  1.58600975e-03  1.64896681e-03  1.75440998e-03\n",
      "  1.83230697e-03  1.92961656e-03  1.99727155e-03  2.04880233e-03\n",
      "  2.21866462e-03  2.34786933e-03  2.42759683e-03  2.47760885e-03\n",
      "  2.57442566e-03  2.75434833e-03  2.79692956e-03  2.83729564e-03\n",
      "  3.09431041e-03  3.37253022e-03  3.46441963e-03  3.58772557e-03\n",
      "  3.90365487e-03  4.02246090e-03  4.13293950e-03  4.39042784e-03\n",
      "  4.49675182e-03  4.59738122e-03  4.83410200e-03  5.05100843e-03\n",
      "  5.19164652e-03  5.39363967e-03  5.64918667e-03  5.96856698e-03\n",
      "  6.12765364e-03  6.42564334e-03  6.62142970e-03  6.84209401e-03\n",
      "  6.99670892e-03  7.31939310e-03  7.97549821e-03  8.15541204e-03\n",
      "  8.61903653e-03  1.12012886e-02  1.24225197e-02  1.39010176e-02\n",
      "  1.64941587e-02  1.69971809e-02  1.81758422e-02  1.99216008e-02\n",
      "  2.04748325e-02  2.13577189e-02  2.18866374e-02  2.23821308e-02\n",
      "  2.43369881e-02  2.47310530e-02  2.50545330e-02  2.53078137e-02\n",
      "  2.59031970e-02  2.73303017e-02  2.78792325e-02  2.91942712e-02\n",
      "  2.95962263e-02  3.09676453e-02  3.16999108e-02  3.29150744e-02\n",
      "  3.62226814e-02  4.01216298e-02  4.27875742e-02  4.28108834e-02\n",
      "  4.53015715e-02  4.61695902e-02  5.11185825e-02  6.12091720e-02\n",
      "  6.22702390e-02  6.79973885e-02  7.34551549e-02  7.62625933e-02\n",
      "  7.79150575e-02  8.00773650e-02  8.95034820e-02  9.08146426e-02\n",
      "  1.13075539e-01  1.30072311e-01  1.50023505e-01  1.66951045e-01\n",
      "  1.72377959e-01  1.87606856e-01  1.94504365e-01  1.97805360e-01\n",
      "  2.12513521e-01  2.19777510e-01  5.21589041e-01  7.17602844e+01]\n"
     ]
    },
    {
     "name": "stderr",
     "output_type": "stream",
     "text": [
      "\n"
     ]
    }
   ],
   "source": [
    "# If you want to use a model from paper, use model_name = 'original_CNN_full_l005'\n",
    "model_name = 'original_CNN_full_l005'\n",
    "\n",
    "device = 'cpu' # calculating the Hessian requires a significant amount of RAM, usual GPUs cannot handle it\n",
    "\n",
    "model = CNN1D_tiny_ED(num_classes)\n",
    "model.load_state_dict(torch.load(folder_model + '/' + model_name + '.pt', map_location=device))\n",
    "\n",
    "CDW_data = Downloader('CDW_ED_size12_full', training_set_size)\n",
    "train_loader = CDW_data.train_loader()\n",
    "criterion = nn.CrossEntropyLoss()\n",
    "\n",
    "# Compute and save Hessian and its eigenvalues\n",
    "for i, (eigenvectors, labels) in enumerate(train_loader):\n",
    "    # Reshape images to (batch_size, # of RGB channels, size, size)\n",
    "    eigenvectors = eigenvectors.reshape(-1, 1, 924) #(batch_size, 25, 50)\n",
    "\n",
    "    eigenvectors, labels = eigenvectors.to(device), labels.to(device)\n",
    "\n",
    "    # Forward pass\n",
    "    outputs = model(eigenvectors)\n",
    "    loss = criterion(outputs, labels)\n",
    "    print(loss)\n",
    "    # We manually add L2 regularization\n",
    "    if λ != 0:\n",
    "        l2_reg = 0.0\n",
    "        for param in model.parameters():\n",
    "            l2_reg += torch.norm(param)**2\n",
    "        loss += 1/training_set_size * λ/2 * l2_reg\n",
    "\n",
    "    hessian = find_hessian(loss, model)\n",
    "    np.save(influence_folder + '/' + model_name + '_hessian', hessian)\n",
    "    heigenvalues = np.sort(np.linalg.eigvalsh(hessian))\n",
    "    print(heigenvalues)\n",
    "    save_to_file(heigenvalues, 'heigenvalues.txt', folder_model)"
   ]
  },
  {
   "cell_type": "markdown",
   "metadata": {},
   "source": [
    "### Now we compute influence of the whole training set on all 45 test points. We will produce 45 files containing 1000 influence function values."
   ]
  },
  {
   "cell_type": "code",
   "execution_count": 15,
   "metadata": {
    "ExecuteTime": {
     "end_time": "2020-04-21T12:23:03.130765Z",
     "start_time": "2020-04-21T12:23:03.095142Z"
    }
   },
   "outputs": [],
   "source": [
    "from utility_general import flatten_grad\n",
    "from influence_function import grad_z\n",
    "from tqdm.notebook import trange # for the progress bar"
   ]
  },
  {
   "cell_type": "code",
   "execution_count": 16,
   "metadata": {
    "ExecuteTime": {
     "end_time": "2020-04-21T12:25:35.591988Z",
     "start_time": "2020-04-21T12:23:03.325504Z"
    }
   },
   "outputs": [
    {
     "name": "stdout",
     "output_type": "stream",
     "text": [
      "The full Hessian got inverted.\n"
     ]
    },
    {
     "data": {
      "application/vnd.jupyter.widget-view+json": {
       "model_id": "a45bfb22bf2f40fab22afdcc72e8e6de",
       "version_major": 2,
       "version_minor": 0
      },
      "text/plain": [
       "HBox(children=(FloatProgress(value=0.0, description='Calculating influence functions for all training points f…"
      ]
     },
     "metadata": {},
     "output_type": "display_data"
    },
    {
     "name": "stdout",
     "output_type": "stream",
     "text": [
      "\n"
     ]
    }
   ],
   "source": [
    "damping = 0.2 # has to be bigger than the absolute value of the biggest negative eigenvalue of the Hessian\n",
    "model_params_no = 740\n",
    "\n",
    "CDW_data = Downloader('CDW_ED_size12_full', training_set_size)\n",
    "train_loader = CDW_data.train_loader()\n",
    "test_loader = CDW_data.test_loader(batch_size=test_set_size)\n",
    "\n",
    "model = CNN1D_tiny_ED(num_classes)\n",
    "model.load_state_dict(torch.load(folder_model + '/' + model_name + '.pt', map_location=torch.device('cpu')))\n",
    "\n",
    "criterion = nn.CrossEntropyLoss()\n",
    "\n",
    "for i, (eigenvectors, labels) in enumerate(train_loader):\n",
    "    # Reshape images to (batch_size, # of RGB channels, size, size)\n",
    "    eigenvectors = eigenvectors.reshape(-1, 1, 924) #(-1, 25, 50)\n",
    "    \n",
    "    # Forward pass\n",
    "    hessian_outputs = model(eigenvectors)\n",
    "    hessian_loss = criterion(hessian_outputs, labels)\n",
    "\n",
    "    # We manually add L2 regularization\n",
    "    if λ != 0:\n",
    "        l2_reg = 0.0\n",
    "        for param in model.parameters():\n",
    "            l2_reg += torch.norm(param)**2\n",
    "        hessian_loss += 1/training_set_size * λ/2 * l2_reg\n",
    "\n",
    "    hessian = np.load(influence_folder + '/' + model_name + '_hessian.npy')\n",
    "    damped_hessian = hessian + np.identity(model_params_no)*damping\n",
    "    #print(np.linalg.eigvalsh(damped_hessian)) # Make sure all are significantly bigger than zero\n",
    "    inv_hessian = torch.inverse(torch.from_numpy(damped_hessian)).float()\n",
    "    print(\"The full Hessian got inverted.\")\n",
    "\n",
    "    chosen_test_examples = np.arange(test_set_size)\n",
    "\n",
    "    for _, (test_eigenvectors, test_labels) in enumerate(test_loader):\n",
    "        \n",
    "        test_eigenvectors = test_eigenvectors.reshape(-1, 1, 924) #(-1, 25, 50)\n",
    "            \n",
    "        for i in trange(len(chosen_test_examples), desc='Calculating influence functions for all training points for the test example no.'):\n",
    "\n",
    "            test_example = chosen_test_examples[i]\n",
    "\n",
    "            # Gradient of the chosen test loss is calculated here\n",
    "            grad_test_loss = grad_z(test_eigenvectors[test_example:test_example+1], test_labels[test_example:test_example+1], model, criterion, training_set_size, λ=λ)\n",
    "\n",
    "            # s_test = 1/H * grad(test_loss), specific for every test example\n",
    "            grad_test_loss = flatten_grad(grad_test_loss)\n",
    "            s_test = torch.mv(inv_hessian, grad_test_loss)\n",
    "\n",
    "            influence = []\n",
    "            # Now gradients of all single training losses are calculated\n",
    "            # 1/n * s_test * grad(single_train_example) ~= influence function of the chosen test point and the single training example\n",
    "            # i.e. approximation of how the single test loss would change after removal of the single training example from the training set and retraining (leave-one-out training, LOO training)\n",
    "            for train_example in range(training_set_size):\n",
    "\n",
    "                grad_train_loss = grad_z(eigenvectors[train_example:train_example+1], labels[train_example:train_example+1], model, criterion, training_set_size, λ=λ)\n",
    "                grad_train_loss = flatten_grad(grad_train_loss)\n",
    "\n",
    "                influence_function = - torch.dot(s_test, grad_train_loss) * (- 1 / training_set_size)\n",
    "                influence.append(influence_function.item())\n",
    "\n",
    "            save_to_file(influence, 'original_influence_test' + str(test_example) + '.txt', influence_folder)"
   ]
  },
  {
   "cell_type": "markdown",
   "metadata": {},
   "source": [
    "## 4. Produce Fig. 2\n",
    "\n",
    "Finally we can reproduce the Figure 2 from our paper."
   ]
  },
  {
   "cell_type": "code",
   "execution_count": 17,
   "metadata": {
    "ExecuteTime": {
     "end_time": "2020-04-21T12:25:39.693536Z",
     "start_time": "2020-04-21T12:25:35.907134Z"
    }
   },
   "outputs": [
    {
     "name": "stderr",
     "output_type": "stream",
     "text": [
      "'c' argument looks like a single numeric RGB or RGBA sequence, which should be avoided as value-mapping will have precedence in case its length matches with 'x' & 'y'.  Please use a 2-D array with a single row if you really want to specify the same RGB or RGBA value for all points.\n",
      "'c' argument looks like a single numeric RGB or RGBA sequence, which should be avoided as value-mapping will have precedence in case its length matches with 'x' & 'y'.  Please use a 2-D array with a single row if you really want to specify the same RGB or RGBA value for all points.\n",
      "'c' argument looks like a single numeric RGB or RGBA sequence, which should be avoided as value-mapping will have precedence in case its length matches with 'x' & 'y'.  Please use a 2-D array with a single row if you really want to specify the same RGB or RGBA value for all points.\n",
      "'c' argument looks like a single numeric RGB or RGBA sequence, which should be avoided as value-mapping will have precedence in case its length matches with 'x' & 'y'.  Please use a 2-D array with a single row if you really want to specify the same RGB or RGBA value for all points.\n",
      "'c' argument looks like a single numeric RGB or RGBA sequence, which should be avoided as value-mapping will have precedence in case its length matches with 'x' & 'y'.  Please use a 2-D array with a single row if you really want to specify the same RGB or RGBA value for all points.\n",
      "'c' argument looks like a single numeric RGB or RGBA sequence, which should be avoided as value-mapping will have precedence in case its length matches with 'x' & 'y'.  Please use a 2-D array with a single row if you really want to specify the same RGB or RGBA value for all points.\n",
      "'c' argument looks like a single numeric RGB or RGBA sequence, which should be avoided as value-mapping will have precedence in case its length matches with 'x' & 'y'.  Please use a 2-D array with a single row if you really want to specify the same RGB or RGBA value for all points.\n",
      "'c' argument looks like a single numeric RGB or RGBA sequence, which should be avoided as value-mapping will have precedence in case its length matches with 'x' & 'y'.  Please use a 2-D array with a single row if you really want to specify the same RGB or RGBA value for all points.\n"
     ]
    },
    {
     "data": {
      "image/png": "[encoded data removed]",
      "text/plain": [
       "<Figure size 243x180 with 4 Axes>"
      ]
     },
     "execution_count": 17,
     "metadata": {},
     "output_type": "execute_result"
    },
    {
     "data": {
      "image/png": "[encoded data removed]",
      "text/plain": [
       "<Figure size 243x180 with 4 Axes>"
      ]
     },
     "metadata": {},
     "output_type": "display_data"
    }
   ],
   "source": [
    "import numpy as np\n",
    "from utility_plots import make_IF_fig2\n",
    "\n",
    "# If you want to use a model from paper, use model_name = 'original_CNN_full_l005'\n",
    "model_name = 'original_CNN_full_l005'\n",
    "influence_folder = 'influence'\n",
    "\n",
    "chosen_test_examples = np.array([1,10,22,37])\n",
    "\n",
    "make_IF_fig2(chosen_test_examples, influence_folder, model_name, formatname = 'png', name = \"IF_fig2\")"
   ]
  },
  {
   "cell_type": "code",
   "execution_count": null,
   "metadata": {},
   "outputs": [],
   "source": []
  }
 ],
 "metadata": {
  "kernelspec": {
   "display_name": "Python 3",
   "language": "python",
   "name": "python3"
  },
  "language_info": {
   "codemirror_mode": {
    "name": "ipython",
    "version": 3
   },
   "file_extension": ".py",
   "mimetype": "text/x-python",
   "name": "python",
   "nbconvert_exporter": "python",
   "pygments_lexer": "ipython3",
   "version": "3.7.6"
  },
  "toc": {
   "base_numbering": 1,
   "nav_menu": {},
   "number_sections": true,
   "sideBar": true,
   "skip_h1_title": false,
   "title_cell": "Table of Contents",
   "title_sidebar": "Contents",
   "toc_cell": false,
   "toc_position": {},
   "toc_section_display": true,
   "toc_window_display": false
  },
  "varInspector": {
   "cols": {
    "lenName": 16,
    "lenType": 16,
    "lenVar": 40
   },
   "kernels_config": {
    "python": {
     "delete_cmd_postfix": "",
     "delete_cmd_prefix": "del ",
     "library": "var_list.py",
     "varRefreshCmd": "print(var_dic_list())"
    },
    "r": {
     "delete_cmd_postfix": ") ",
     "delete_cmd_prefix": "rm(",
     "library": "var_list.r",
     "varRefreshCmd": "cat(var_dic_list()) "
    }
   },
   "types_to_exclude": [
    "module",
    "function",
    "builtin_function_or_method",
    "instance",
    "_Feature"
   ],
   "window_display": false
  }
 },
 "nbformat": 4,
 "nbformat_minor": 4
}
